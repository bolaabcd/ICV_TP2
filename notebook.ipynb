{
 "cells": [
  {
   "cell_type": "markdown",
   "metadata": {},
   "source": [
    "# Segundo Trabalho Prático de Introdução à Computação Visual (ICV) na UFMG:\n",
    "\n",
    "Artur Gaspar da Silva"
   ]
  },
  {
   "cell_type": "markdown",
   "metadata": {},
   "source": [
    "### Baixando video, modelo, alvo e objloader"
   ]
  },
  {
   "cell_type": "code",
   "execution_count": null,
   "metadata": {},
   "outputs": [],
   "source": [
    "!wget https://homepages.dcc.ufmg.br/~artur.gaspar/ICV/TP2/entrada.mp4\n",
    "!wget https://homepages.dcc.ufmg.br/~artur.gaspar/ICV/TP2/pikach_obj.zip\n",
    "!wget https://homepages.dcc.ufmg.br/~artur.gaspar/ICV/TP2/alvo.jpg\n",
    "!wget https://homepages.dcc.ufmg.br/~artur.gaspar/ICV/TP2/objloader.py"
   ]
  },
  {
   "cell_type": "markdown",
   "metadata": {},
   "source": [
    "### Importando bibliotecas a serem usadas:"
   ]
  },
  {
   "cell_type": "code",
   "execution_count": 1,
   "metadata": {},
   "outputs": [
    {
     "name": "stdout",
     "output_type": "stream",
     "text": [
      "pygame 2.1.2 (SDL 2.0.16, Python 3.8.10)\n",
      "Hello from the pygame community. https://www.pygame.org/contribute.html\n"
     ]
    }
   ],
   "source": [
    "import pygame\n",
    "import cv2\n",
    "from cv2 import threshold\n",
    "import numpy as np\n",
    "\n",
    "from OpenGL.GL import *\n",
    "from OpenGL.GLUT import *\n",
    "from OpenGL.GLU import *\n",
    "\n",
    "from PIL import Image\n",
    "from PIL import ImageOps\n",
    "\n",
    "from objloader import *"
   ]
  },
  {
   "cell_type": "markdown",
   "metadata": {},
   "source": [
    "## Parte 1: Calibrando a câmera"
   ]
  },
  {
   "cell_type": "markdown",
   "metadata": {},
   "source": [
    "Antes de tudo, precisamos realizar o processo de calibrar a câmera, ou seja, obter seus parâmetros intrínsecos (foco, centro óptico, distorções e etc.)\n",
    "\n",
    "Para fazer isso, utilizamos o toolbox de Jean-Yves Bouguet para Octave. Os frames utilizados para calibração foram os seguintes:"
   ]
  },
  {
   "cell_type": "markdown",
   "metadata": {},
   "source": [
    "<img src=\"https://homepages.dcc.ufmg.br/~artur.gaspar/ICV/TP2/calibs/0.jpg\" alt=\"Drawing\" style=\"width: 200px;\"/>\n",
    "<img src=\"https://homepages.dcc.ufmg.br/~artur.gaspar/ICV/TP2/calibs/1.jpg\" alt=\"Drawing\" style=\"width: 200px;\"/>\n",
    "<img src=\"https://homepages.dcc.ufmg.br/~artur.gaspar/ICV/TP2/calibs/2.jpg\" alt=\"Drawing\" style=\"width: 200px;\"/>\n",
    "<img src=\"https://homepages.dcc.ufmg.br/~artur.gaspar/ICV/TP2/calibs/3.jpg\" alt=\"Drawing\" style=\"width: 200px;\"/>\n",
    "<img src=\"https://homepages.dcc.ufmg.br/~artur.gaspar/ICV/TP2/calibs/4.jpg\" alt=\"Drawing\" style=\"width: 200px;\"/>\n",
    "<img src=\"https://homepages.dcc.ufmg.br/~artur.gaspar/ICV/TP2/calibs/5.jpg\" alt=\"Drawing\" style=\"width: 200px;\"/>\n",
    "<img src=\"https://homepages.dcc.ufmg.br/~artur.gaspar/ICV/TP2/calibs/6.jpg\" alt=\"Drawing\" style=\"width: 200px;\"/>"
   ]
  },
  {
   "cell_type": "markdown",
   "metadata": {},
   "source": [
    "Depois de selecionar as quinas dos tabuleiros de xadrez e utilizar o Toolkit, obtemos os seguintes resultados:\n",
    "```\n",
    "Calibration results after optimization (with uncertainties):\n",
    "\n",
    "Focal Length:          fc = [ 397.32165   389.18911 ] +/- [ 31.21264   27.35409 ]\n",
    "Principal point:       cc = [ 327.02195   248.75539 ] +/- [ 8.57489   17.54686 ]\n",
    "Skew:             alpha_c = [ 0.00000 ] +/- [ 0.00000  ]   => angle of pixel axes = 90.00000 +/- 0.00000 degrees\n",
    "Distortion:            kc = [ -0.03318   0.09094   0.02252   0.00253  0.00000 ] +/- [ 0.09034   0.18810   0.01571   0.01322  0.00000 ]\n",
    "Pixel error:          err = [ 1.66291   1.57933 ]\n",
    "\n",
    "Note: The numerical errors are approximately three times the standard deviations (for reference).\n",
    "\n",
    "\n",
    "Recommendation: Some distortion coefficients are found equal to zero (within their uncertainties).\n",
    "                To reject them from the optimization set est_dist=[0;0;1;1;0] and run Calibration\n",
    "```"
   ]
  },
  {
   "cell_type": "markdown",
   "metadata": {},
   "source": [
    "Assim nossa matriz de parâmetros intrínsecos e nossos coeficientes de distorção serão:"
   ]
  },
  {
   "cell_type": "code",
   "execution_count": null,
   "metadata": {},
   "outputs": [],
   "source": [
    "cameraMatrix = np.array(\n",
    "    [\n",
    "        [397.32165, 0        , 327.02195],\n",
    "        [0        , 389.18911, 248.75539],\n",
    "        [0        , 0        , 1        ],\n",
    "    ], dtype = np.float64\n",
    ")\n",
    "\n",
    "distCoeffs = np.array([-0.03318, 0.09094, 0.02252, 0.00253, 0.00000], dtype = np.float64)"
   ]
  },
  {
   "cell_type": "markdown",
   "metadata": {},
   "source": [
    "## Parte 2: Detecção de Alvos:"
   ]
  },
  {
   "cell_type": "markdown",
   "metadata": {},
   "source": [
    "Agora, precisamos detectar os alvos e suas orientações nos frames do vídeo. Para isso, primeiro vamos ler o primeiro frame do vídeo:"
   ]
  },
  {
   "cell_type": "code",
   "execution_count": 4,
   "metadata": {},
   "outputs": [],
   "source": [
    "vidcap = cv2.VideoCapture('entrada.mp4')\n",
    "success,image = vidcap.read()\n",
    "assert(success)\n",
    "assert(image.max() <= 255 and image.min() >= 0)\n",
    "surf = pygame.surfarray.make_surface(image)\n",
    "imagepygame = pygame.image.tostring(surf, 'RGBA', 1)\n",
    "ix, iy = surf.get_rect().size\n",
    "\n",
    "cv2.imshow('a',image)\n",
    "cv2.waitKey()\n",
    "cv2.destroyAllWindows()"
   ]
  },
  {
   "cell_type": "code",
   "execution_count": 3,
   "metadata": {},
   "outputs": [],
   "source": []
  }
 ],
 "metadata": {
  "kernelspec": {
   "display_name": "Python 3 (ipykernel)",
   "language": "python",
   "name": "python3"
  },
  "language_info": {
   "codemirror_mode": {
    "name": "ipython",
    "version": 3
   },
   "file_extension": ".py",
   "mimetype": "text/x-python",
   "name": "python",
   "nbconvert_exporter": "python",
   "pygments_lexer": "ipython3",
   "version": "3.8.10"
  }
 },
 "nbformat": 4,
 "nbformat_minor": 4
}
